{
  "nbformat": 4,
  "nbformat_minor": 0,
  "metadata": {
    "colab": {
      "name": "Week10.ipynb",
      "provenance": [],
      "authorship_tag": "ABX9TyPBDGK4Dwr9V7QFJzUPNwBr",
      "include_colab_link": true
    },
    "kernelspec": {
      "name": "python3",
      "display_name": "Python 3"
    },
    "language_info": {
      "name": "python"
    }
  },
  "cells": [
    {
      "cell_type": "markdown",
      "metadata": {
        "id": "view-in-github",
        "colab_type": "text"
      },
      "source": [
        "<a href=\"https://colab.research.google.com/github/alfan06/Azfa/blob/master/Week10.ipynb\" target=\"_parent\"><img src=\"https://colab.research.google.com/assets/colab-badge.svg\" alt=\"Open In Colab\"/></a>"
      ]
    },
    {
      "cell_type": "markdown",
      "metadata": {
        "id": "aSSvW7DI0S8r"
      },
      "source": [
        "1. Buka https://colab.research.google.com/. Setelah dipastikan bahwa google Colab\n",
        "terhubung dengan Github Anda, buat notebook baru dan beri nama “Week10.ipynb”.\n",
        "Kemudian import folder yang ada di Drive Anda dengan cara sebagai berikut"
      ]
    },
    {
      "cell_type": "code",
      "metadata": {
        "colab": {
          "base_uri": "https://localhost:8080/"
        },
        "id": "QtYigz0rzSPq",
        "outputId": "91001fd4-f00c-4ea8-ac87-9fee0840c4e1"
      },
      "source": [
        "from google.colab import drive\n",
        "drive.mount('/content/drive')"
      ],
      "execution_count": 1,
      "outputs": [
        {
          "output_type": "stream",
          "text": [
            "Mounted at /content/drive\n"
          ],
          "name": "stdout"
        }
      ]
    },
    {
      "cell_type": "markdown",
      "metadata": {
        "id": "NTf9Rw4k0NBD"
      },
      "source": [
        "2. Import beberapa library berikut yang akan digunakan selama uji coba praktikum\n",
        "minggu ke-6 berikut. "
      ]
    },
    {
      "cell_type": "code",
      "metadata": {
        "id": "lbC2D0Bx0RoK"
      },
      "source": [
        "import cv2\n",
        "import numpy as np\n",
        "from matplotlib import pyplot as plt"
      ],
      "execution_count": 2,
      "outputs": []
    },
    {
      "cell_type": "markdown",
      "metadata": {
        "id": "AsI5KZed0p9U"
      },
      "source": [
        "3. Buat Global Threshold (BINARY, BINARY_INV, TRUNC, TOZERO, TOZERO_INV) secara\n",
        "manual sesuai dengan deskripsi dari grafik yang ditunjukkan di atas. \n"
      ]
    },
    {
      "cell_type": "code",
      "metadata": {
        "id": "z72uZZpF0tt0"
      },
      "source": [
        "img = cv.imread('/content/drive/MyDrive/PCVK_MM/Images/mandrill.tiff')"
      ],
      "execution_count": null,
      "outputs": []
    }
  ]
}